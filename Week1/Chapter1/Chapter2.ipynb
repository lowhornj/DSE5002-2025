{
 "cells": [
  {
   "cell_type": "markdown",
   "id": "ea408ad8-9593-415f-b3ad-be15cfa059e5",
   "metadata": {},
   "source": [
    "# Chapter 2\n",
    "## Jeremiah Lowhorn"
   ]
  },
  {
   "cell_type": "code",
   "execution_count": 20,
   "id": "d8e4db42-1818-4574-84df-264bcf7797a4",
   "metadata": {},
   "outputs": [],
   "source": [
    "import numpy as np\n",
    "import math"
   ]
  },
  {
   "cell_type": "code",
   "execution_count": 11,
   "id": "0a2e36a5-7991-4d99-a0b4-41461cae6dfb",
   "metadata": {},
   "outputs": [],
   "source": [
    "my_integer = 5"
   ]
  },
  {
   "cell_type": "code",
   "execution_count": 3,
   "id": "b388c301-17c8-4f9e-8b8b-7de005474ee3",
   "metadata": {},
   "outputs": [],
   "source": [
    "my_float = 3.0"
   ]
  },
  {
   "cell_type": "code",
   "execution_count": 4,
   "id": "aaf62bff-496a-4127-a235-2c7fae3e99cb",
   "metadata": {},
   "outputs": [
    {
     "data": {
      "text/plain": [
       "int"
      ]
     },
     "execution_count": 4,
     "metadata": {},
     "output_type": "execute_result"
    }
   ],
   "source": [
    "type(my_integer)"
   ]
  },
  {
   "cell_type": "code",
   "execution_count": 5,
   "id": "e1d9c7a8-71b6-459c-8afe-32c63444dfc5",
   "metadata": {},
   "outputs": [
    {
     "data": {
      "text/plain": [
       "float"
      ]
     },
     "execution_count": 5,
     "metadata": {},
     "output_type": "execute_result"
    }
   ],
   "source": [
    "type(my_float)"
   ]
  },
  {
   "cell_type": "code",
   "execution_count": 6,
   "id": "536f97f0-243c-4a58-b414-397a7a2a122c",
   "metadata": {},
   "outputs": [
    {
     "data": {
      "text/plain": [
       "8.0"
      ]
     },
     "execution_count": 6,
     "metadata": {},
     "output_type": "execute_result"
    }
   ],
   "source": [
    "my_integer + my_float"
   ]
  },
  {
   "cell_type": "code",
   "execution_count": 13,
   "id": "2cad2ccd-d92e-4505-8e8f-beef21dfa3a0",
   "metadata": {},
   "outputs": [],
   "source": [
    "my_integer = my_float + my_integer"
   ]
  },
  {
   "cell_type": "code",
   "execution_count": 14,
   "id": "8ff65201-7bf3-415e-8e10-6092392db0eb",
   "metadata": {},
   "outputs": [
    {
     "data": {
      "text/plain": [
       "8.0"
      ]
     },
     "execution_count": 14,
     "metadata": {},
     "output_type": "execute_result"
    }
   ],
   "source": [
    "my_integer"
   ]
  },
  {
   "cell_type": "markdown",
   "id": "8ea27b26-41f0-4825-b6b7-41c0c4770b6f",
   "metadata": {},
   "source": [
    "## Imports"
   ]
  },
  {
   "cell_type": "code",
   "execution_count": 22,
   "id": "04135054-c4f1-4946-a76e-89cb331a8125",
   "metadata": {},
   "outputs": [
    {
     "data": {
      "text/plain": [
       "3.142"
      ]
     },
     "execution_count": 22,
     "metadata": {},
     "output_type": "execute_result"
    }
   ],
   "source": [
    "round(math.pi,3)"
   ]
  },
  {
   "cell_type": "code",
   "execution_count": 23,
   "id": "22641fcb-0580-4de5-9665-67c52b1d1794",
   "metadata": {},
   "outputs": [
    {
     "data": {
      "text/plain": [
       "5.0"
      ]
     },
     "execution_count": 23,
     "metadata": {},
     "output_type": "execute_result"
    }
   ],
   "source": [
    "math.sqrt(25)"
   ]
  },
  {
   "cell_type": "markdown",
   "id": "5da8e79b-76d7-4cc7-8eba-c4e330970e91",
   "metadata": {},
   "source": [
    "## Print"
   ]
  },
  {
   "cell_type": "code",
   "execution_count": 24,
   "id": "6413899f-1ccf-432d-8ff1-a6c574065bd8",
   "metadata": {},
   "outputs": [
    {
     "data": {
      "text/plain": [
       "3.141592653589793"
      ]
     },
     "execution_count": 24,
     "metadata": {},
     "output_type": "execute_result"
    }
   ],
   "source": [
    "math.pi"
   ]
  },
  {
   "cell_type": "code",
   "execution_count": 34,
   "id": "e41f1292-f7eb-4894-8fbf-d171858f4c98",
   "metadata": {},
   "outputs": [
    {
     "name": "stdout",
     "output_type": "stream",
     "text": [
      "Pi is: 3.142\n"
     ]
    }
   ],
   "source": [
    "print('Pi is: '+str(round(math.pi,3)))"
   ]
  },
  {
   "cell_type": "code",
   "execution_count": 33,
   "id": "99520751-628b-4518-b994-df843ad869f6",
   "metadata": {},
   "outputs": [
    {
     "name": "stdout",
     "output_type": "stream",
     "text": [
      "Pi is 3.142\n"
     ]
    }
   ],
   "source": [
    "print(f'Pi is {math.pi:.3f}')"
   ]
  },
  {
   "cell_type": "code",
   "execution_count": 35,
   "id": "9db631e7-7e19-4b41-b418-989ce0bad0b9",
   "metadata": {},
   "outputs": [
    {
     "ename": "TypeError",
     "evalue": "float expected at most 1 argument, got 2",
     "output_type": "error",
     "traceback": [
      "\u001b[1;31m---------------------------------------------------------------------------\u001b[0m",
      "\u001b[1;31mTypeError\u001b[0m                                 Traceback (most recent call last)",
      "Cell \u001b[1;32mIn[35], line 1\u001b[0m\n\u001b[1;32m----> 1\u001b[0m \u001b[38;5;28mfloat\u001b[39m(\u001b[38;5;124m'\u001b[39m\u001b[38;5;124m123.0\u001b[39m\u001b[38;5;124m'\u001b[39m, \u001b[38;5;241m2\u001b[39m)\n",
      "\u001b[1;31mTypeError\u001b[0m: float expected at most 1 argument, got 2"
     ]
    }
   ],
   "source": [
    "float('123.0', 2)"
   ]
  },
  {
   "cell_type": "markdown",
   "id": "8e7b4574-3d7a-4693-8e5c-b603ca50f57e",
   "metadata": {},
   "source": [
    "## Comments"
   ]
  },
  {
   "cell_type": "code",
   "execution_count": 36,
   "id": "a89c4689-9bd9-409e-bb94-7be92cf3aecf",
   "metadata": {},
   "outputs": [],
   "source": [
    "# Single line comment"
   ]
  },
  {
   "cell_type": "code",
   "execution_count": 37,
   "id": "3eec09fd-ba78-457b-894b-ce6f30a77c03",
   "metadata": {},
   "outputs": [
    {
     "data": {
      "text/plain": [
       "'\\nMulti \\nLine\\nComments\\n'"
      ]
     },
     "execution_count": 37,
     "metadata": {},
     "output_type": "execute_result"
    }
   ],
   "source": [
    "\"\"\"\n",
    "Multi \n",
    "Line\n",
    "Comments\n",
    "\"\"\""
   ]
  },
  {
   "cell_type": "code",
   "execution_count": 38,
   "id": "d7870fce-d9a4-4373-a3a5-8506cdcf3e9b",
   "metadata": {},
   "outputs": [
    {
     "data": {
      "text/plain": [
       "13"
      ]
     },
     "execution_count": 38,
     "metadata": {},
     "output_type": "execute_result"
    }
   ],
   "source": [
    "5 + 8 # Add 5 to 8"
   ]
  },
  {
   "cell_type": "code",
   "execution_count": 39,
   "id": "60905f51-36d0-477b-a375-d28e5b7a47a1",
   "metadata": {},
   "outputs": [
    {
     "data": {
      "text/plain": [
       "13"
      ]
     },
     "execution_count": 39,
     "metadata": {},
     "output_type": "execute_result"
    }
   ],
   "source": [
    "# add 5 to 8\n",
    "5+ 8"
   ]
  },
  {
   "cell_type": "code",
   "execution_count": null,
   "id": "81229b72-e4db-479d-af33-ebd3edb4cfd2",
   "metadata": {},
   "outputs": [],
   "source": []
  }
 ],
 "metadata": {
  "kernelspec": {
   "display_name": "Python 3 (ipykernel)",
   "language": "python",
   "name": "python3"
  },
  "language_info": {
   "codemirror_mode": {
    "name": "ipython",
    "version": 3
   },
   "file_extension": ".py",
   "mimetype": "text/x-python",
   "name": "python",
   "nbconvert_exporter": "python",
   "pygments_lexer": "ipython3",
   "version": "3.12.9"
  }
 },
 "nbformat": 4,
 "nbformat_minor": 5
}
