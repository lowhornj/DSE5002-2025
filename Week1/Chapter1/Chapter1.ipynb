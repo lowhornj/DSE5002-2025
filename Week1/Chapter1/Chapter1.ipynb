{
 "cells": [
  {
   "cell_type": "markdown",
   "id": "99a6244b-349d-4e03-921c-b1c5895f915c",
   "metadata": {},
   "source": [
    "# Chapter 1 Practice\n",
    "### Jeremiah Lowhorn"
   ]
  },
  {
   "cell_type": "code",
   "execution_count": 1,
   "id": "3438d3f5-7beb-4966-b292-9570a8e9cfe4",
   "metadata": {},
   "outputs": [
    {
     "data": {
      "text/plain": [
       "37"
      ]
     },
     "execution_count": 1,
     "metadata": {},
     "output_type": "execute_result"
    }
   ],
   "source": [
    "30+7"
   ]
  },
  {
   "cell_type": "code",
   "execution_count": 5,
   "id": "af39fc83-e012-4517-8bd3-a72909c86cd5",
   "metadata": {},
   "outputs": [
    {
     "data": {
      "text/plain": [
       "2.0"
      ]
     },
     "execution_count": 5,
     "metadata": {},
     "output_type": "execute_result"
    }
   ],
   "source": [
    "4/2"
   ]
  },
  {
   "cell_type": "code",
   "execution_count": 6,
   "id": "9417159c-0651-46bc-8efe-71519ebaf2cc",
   "metadata": {},
   "outputs": [
    {
     "data": {
      "text/plain": [
       "47.0"
      ]
     },
     "execution_count": 6,
     "metadata": {},
     "output_type": "execute_result"
    }
   ],
   "source": [
    "40.0+7"
   ]
  },
  {
   "cell_type": "markdown",
   "id": "1ad4e5b8-f20a-474d-bd0a-c1b4451f6b56",
   "metadata": {},
   "source": [
    "## Expressions"
   ]
  },
  {
   "cell_type": "code",
   "execution_count": 7,
   "id": "eb1cccf9-687d-4581-8227-d5b74bf736bd",
   "metadata": {},
   "outputs": [
    {
     "data": {
      "text/plain": [
       "42"
      ]
     },
     "execution_count": 7,
     "metadata": {},
     "output_type": "execute_result"
    }
   ],
   "source": [
    "6 + 6 ** 2"
   ]
  },
  {
   "cell_type": "code",
   "execution_count": 8,
   "id": "55785881-219d-4ab1-9d6c-b4aad6847cf2",
   "metadata": {},
   "outputs": [
    {
     "data": {
      "text/plain": [
       "144"
      ]
     },
     "execution_count": 8,
     "metadata": {},
     "output_type": "execute_result"
    }
   ],
   "source": [
    "(6 + 6) ** 2"
   ]
  },
  {
   "cell_type": "markdown",
   "id": "442ec46f-6577-48fb-9b6b-57c961f05554",
   "metadata": {},
   "source": [
    "## Arithmetic Functions"
   ]
  },
  {
   "cell_type": "code",
   "execution_count": 10,
   "id": "c336aeac-87f8-484a-a65e-bae1111d9a4a",
   "metadata": {},
   "outputs": [
    {
     "data": {
      "text/plain": [
       "17"
      ]
     },
     "execution_count": 10,
     "metadata": {},
     "output_type": "execute_result"
    }
   ],
   "source": [
    "abs(-17)"
   ]
  },
  {
   "cell_type": "code",
   "execution_count": 12,
   "id": "9edf082d-9925-44ae-a7cf-a8bd13db1812",
   "metadata": {},
   "outputs": [
    {
     "data": {
      "text/plain": [
       "144.57"
      ]
     },
     "execution_count": 12,
     "metadata": {},
     "output_type": "execute_result"
    }
   ],
   "source": [
    "round(144.56698464,2)"
   ]
  },
  {
   "cell_type": "code",
   "execution_count": 13,
   "id": "804d8660-42b7-46a9-a3ee-84eb52c5c808",
   "metadata": {},
   "outputs": [
    {
     "data": {
      "text/plain": [
       "145.0"
      ]
     },
     "execution_count": 13,
     "metadata": {},
     "output_type": "execute_result"
    }
   ],
   "source": [
    "round(144.56698464,0)"
   ]
  },
  {
   "cell_type": "code",
   "execution_count": 14,
   "id": "c1f44fa2-3002-4a92-9be7-2b34944f8c80",
   "metadata": {},
   "outputs": [
    {
     "data": {
      "text/plain": [
       "float"
      ]
     },
     "execution_count": 14,
     "metadata": {},
     "output_type": "execute_result"
    }
   ],
   "source": [
    "type(144.56698464)"
   ]
  },
  {
   "cell_type": "code",
   "execution_count": 16,
   "id": "1662b812-c7e6-4ddb-a5f7-769fff367291",
   "metadata": {},
   "outputs": [
    {
     "data": {
      "text/plain": [
       "float"
      ]
     },
     "execution_count": 16,
     "metadata": {},
     "output_type": "execute_result"
    }
   ],
   "source": [
    "type(144.0)"
   ]
  },
  {
   "cell_type": "markdown",
   "id": "da330365-1b1f-4fca-86a0-6d96c62ee893",
   "metadata": {},
   "source": [
    "## Strings"
   ]
  },
  {
   "cell_type": "code",
   "execution_count": 17,
   "id": "0851a56e-0eac-4f05-b419-153a5aae7a38",
   "metadata": {},
   "outputs": [
    {
     "data": {
      "text/plain": [
       "'Hello world'"
      ]
     },
     "execution_count": 17,
     "metadata": {},
     "output_type": "execute_result"
    }
   ],
   "source": [
    "'Hello world'"
   ]
  },
  {
   "cell_type": "code",
   "execution_count": 18,
   "id": "45d0318d-0adb-4238-b19e-08726e0d0eb4",
   "metadata": {},
   "outputs": [
    {
     "data": {
      "text/plain": [
       "11"
      ]
     },
     "execution_count": 18,
     "metadata": {},
     "output_type": "execute_result"
    }
   ],
   "source": [
    "len('Hello world')"
   ]
  },
  {
   "cell_type": "code",
   "execution_count": 20,
   "id": "304353b7-3750-4a6b-bff1-312196d052ae",
   "metadata": {},
   "outputs": [
    {
     "data": {
      "text/plain": [
       "'Hello World'"
      ]
     },
     "execution_count": 20,
     "metadata": {},
     "output_type": "execute_result"
    }
   ],
   "source": [
    "'Hello' + ' ' +'World'"
   ]
  },
  {
   "cell_type": "code",
   "execution_count": 21,
   "id": "1d6f6050-c03f-4ccc-b7f4-1124c00b53e4",
   "metadata": {},
   "outputs": [
    {
     "data": {
      "text/plain": [
       "'\\nHello world\\nThis is my first program\\nI am excited to learn Python and SQL\\nThank you for helping me learn\\n'"
      ]
     },
     "execution_count": 21,
     "metadata": {},
     "output_type": "execute_result"
    }
   ],
   "source": [
    "'''\n",
    "Hello world\n",
    "This is my first program\n",
    "I am excited to learn Python and SQL\n",
    "Thank you for helping me learn\n",
    "'''"
   ]
  },
  {
   "cell_type": "markdown",
   "id": "8f2c54a7-32b2-48c2-8d90-fc5c7767a6da",
   "metadata": {},
   "source": [
    "## Values and Types"
   ]
  },
  {
   "cell_type": "code",
   "execution_count": 30,
   "id": "55f2cc71-c739-4d35-9f8a-1b0039890105",
   "metadata": {},
   "outputs": [
    {
     "ename": "TypeError",
     "evalue": "unsupported operand type(s) for //: 'str' and 'int'",
     "output_type": "error",
     "traceback": [
      "\u001b[1;31m---------------------------------------------------------------------------\u001b[0m",
      "\u001b[1;31mTypeError\u001b[0m                                 Traceback (most recent call last)",
      "Cell \u001b[1;32mIn[30], line 1\u001b[0m\n\u001b[1;32m----> 1\u001b[0m \u001b[38;5;124m'\u001b[39m\u001b[38;5;124m1,000,000\u001b[39m\u001b[38;5;124m'\u001b[39m \u001b[38;5;241m/\u001b[39m\u001b[38;5;241m/\u001b[39m\u001b[38;5;241m2\u001b[39m\n",
      "\u001b[1;31mTypeError\u001b[0m: unsupported operand type(s) for //: 'str' and 'int'"
     ]
    }
   ],
   "source": [
    "'1,000,000' //2"
   ]
  },
  {
   "cell_type": "code",
   "execution_count": 27,
   "id": "caa0bd03-4501-4858-85ce-4408f3dcf959",
   "metadata": {},
   "outputs": [
    {
     "data": {
      "text/plain": [
       "1"
      ]
     },
     "execution_count": 27,
     "metadata": {},
     "output_type": "execute_result"
    }
   ],
   "source": []
  },
  {
   "cell_type": "code",
   "execution_count": null,
   "id": "ef06826f-8d91-42b1-b524-cdee29f18337",
   "metadata": {},
   "outputs": [],
   "source": []
  }
 ],
 "metadata": {
  "kernelspec": {
   "display_name": "Python 3 (ipykernel)",
   "language": "python",
   "name": "python3"
  },
  "language_info": {
   "codemirror_mode": {
    "name": "ipython",
    "version": 3
   },
   "file_extension": ".py",
   "mimetype": "text/x-python",
   "name": "python",
   "nbconvert_exporter": "python",
   "pygments_lexer": "ipython3",
   "version": "3.12.9"
  }
 },
 "nbformat": 4,
 "nbformat_minor": 5
}
