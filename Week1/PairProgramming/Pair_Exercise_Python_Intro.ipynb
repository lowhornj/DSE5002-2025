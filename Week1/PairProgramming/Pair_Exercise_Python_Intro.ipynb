{
 "cells": [
  {
   "cell_type": "markdown",
   "id": "86811b49-d494-4d15-9ee5-a00f0d769d0e",
   "metadata": {},
   "source": [
    "# DSE5002  Module 5  Pair Programming \n",
    "\n",
    "# Jeremiah Lowhorn, 3/19/2025\n",
    "\n",
    "# Intro to some Python Ideas"
   ]
  },
  {
   "cell_type": "markdown",
   "id": "670d68b4-4846-4704-84c4-0d4275db66c8",
   "metadata": {},
   "source": [
    "Basic Variables\n",
    "\n",
    "Python is dynamically typed, like R, so Python decides how to store variables when you declare them.\n",
    "\n",
    "Python has floating points,  integers, complex numbers, boolean and strings as the basic type elements\n",
    "\n",
    "It does not have a factor like R does\n",
    "\n",
    "The basic math operations work the same way they do in R"
   ]
  },
  {
   "cell_type": "code",
   "execution_count": null,
   "id": "df67f18b-2206-4f9d-83c5-d4aeee1f82db",
   "metadata": {},
   "outputs": [],
   "source": [
    "a=5\n",
    "b=2\n",
    "print(a+b)"
   ]
  },
  {
   "cell_type": "code",
   "execution_count": null,
   "id": "13301b8c-485b-4fa7-99da-6633c513cec9",
   "metadata": {},
   "outputs": [],
   "source": [
    "#We can use the type function to see what type of variable on object is\n",
    "type(a)"
   ]
  },
  {
   "cell_type": "code",
   "execution_count": null,
   "id": "efd09b1d-fa90-4cba-b1a6-1c818cc0fccd",
   "metadata": {},
   "outputs": [],
   "source": [
    "a=5.0\n",
    "type(a)"
   ]
  },
  {
   "cell_type": "markdown",
   "id": "5d7f31b1-480a-4df1-a7f2-8052eab894a7",
   "metadata": {},
   "source": [
    "#Question\n",
    "\n",
    "Why is a an integer in one case and a float in the other?"
   ]
  },
  {
   "cell_type": "code",
   "execution_count": null,
   "id": "bd949cf2-aa00-4fec-8591-ae23e40b0260",
   "metadata": {},
   "outputs": [],
   "source": [
    "a=\"5A\"\n",
    "type(a)"
   ]
  },
  {
   "cell_type": "code",
   "execution_count": null,
   "id": "7b61322b-1704-441e-912e-8380b3ab2994",
   "metadata": {},
   "outputs": [],
   "source": [
    "a.lower()"
   ]
  },
  {
   "cell_type": "markdown",
   "id": "d4938829-19e7-4677-a540-6c1a36cc7190",
   "metadata": {},
   "source": [
    "Storage classes in Python,  such as str and more complex types have built in member functions that operate on items in the class\n",
    "\n",
    "\n",
    "The dir() function will show the variables in the class, which have underscores added, and functions which do not"
   ]
  },
  {
   "cell_type": "code",
   "execution_count": null,
   "id": "ba68c2eb-025e-4bf3-a17a-3ba2f77a207f",
   "metadata": {},
   "outputs": [],
   "source": [
    "dir(a)"
   ]
  },
  {
   "cell_type": "markdown",
   "id": "45589c14-627a-4cf2-a962-767ba3168f89",
   "metadata": {},
   "source": [
    "Looking at a string, there is along list of available functions\n",
    "\n",
    "We'll define a more interesting string and see what some of these functions do.\n",
    "\n",
    "Notice how the member functions are called, as the variable name, a period and then the function name and parenthesis\n",
    "\n",
    "Not all functions in Python are member functions, this is just showing how to call member functions once you find them using\n",
    "dir()"
   ]
  },
  {
   "cell_type": "code",
   "execution_count": null,
   "id": "a2c42130-984f-404c-9420-572e6e972415",
   "metadata": {},
   "outputs": [],
   "source": [
    "a=\"Joe chased a leaf,\"\n",
    "print(a.upper())\n",
    "print(a.lower())\n",
    "print(a.title())"
   ]
  },
  {
   "cell_type": "code",
   "execution_count": null,
   "id": "a8f989dc-7461-4d78-adc7-40b55b10517b",
   "metadata": {},
   "outputs": [],
   "source": [
    "a.split()"
   ]
  },
  {
   "cell_type": "markdown",
   "id": "55bddfc0-a298-4d43-b140-25eb1d8eacfc",
   "metadata": {},
   "source": [
    "The key idea here is that dir() can show you a bunch of useful functions available"
   ]
  },
  {
   "cell_type": "code",
   "execution_count": null,
   "id": "f4c50b3b-4f7e-4d26-bf4b-4579b1a26df1",
   "metadata": {},
   "outputs": [],
   "source": [
    "a.__len__"
   ]
  },
  {
   "cell_type": "code",
   "execution_count": null,
   "id": "b721e37e-37fa-480f-b556-d41161403402",
   "metadata": {},
   "outputs": [],
   "source": [
    "#this is an iPython \"magic\" command to see the user defined variables in use at the moment\n",
    "# it is a lift from the Matlab system\n",
    "# \"magic\" commands are utility commands in iPython or Jupyter, not part of python\n",
    "\n",
    "%who"
   ]
  },
  {
   "cell_type": "code",
   "execution_count": null,
   "id": "60071387-c9be-4819-93a4-c6b62879f9b9",
   "metadata": {},
   "outputs": [],
   "source": [
    "%whos"
   ]
  },
  {
   "cell_type": "markdown",
   "id": "d579ba53-0c8b-459b-8a92-fda083a2877a",
   "metadata": {},
   "source": [
    "To see more about magic commands, see\n",
    "\n",
    "https://ipython.readthedocs.io/en/stable/interactive/magics.html\n",
    "\n"
   ]
  },
  {
   "cell_type": "markdown",
   "id": "efe0a8cb-e893-4922-91f7-ede0994d79d2",
   "metadata": {},
   "source": [
    "Thee are 4 types of built-in data structures in basic python\n",
    "\n",
    "list, tuple, dictionary and set\n",
    "\n",
    "We'll talk about them next week"
   ]
  },
  {
   "cell_type": "markdown",
   "id": "4e6e7cd4-21e2-49f9-bfb6-fa3341f30385",
   "metadata": {},
   "source": [
    "#Numpy\n",
    "\n",
    "Numpy stands for numerical python,   it has array and vector data types defined within it\n",
    "\n",
    "To create matrices and do matric operations in Python,  people typically use Numpy\n",
    "\n",
    "Many other structures and common python packages are built on top of numpy classes\n",
    "\n",
    "To use Numpy, we have to import the package.   Note that the package must already be installed in your environment\n",
    "\n",
    "np is the classic appreciation or alias for numpy"
   ]
  },
  {
   "cell_type": "code",
   "execution_count": null,
   "id": "03bbf069-f343-4c1c-b322-8026fc01ce5f",
   "metadata": {},
   "outputs": [],
   "source": [
    "!pip install numpy\n",
    "import numpy as np\n"
   ]
  },
  {
   "cell_type": "markdown",
   "id": "64a344d7-5b0b-467b-97bb-5d210dfe0c10",
   "metadata": {},
   "source": [
    "Numpy matrices \n",
    "\n",
    "-must all have the same type of element\n",
    "\n",
    "- are indexed by the row and column number\n",
    "\n",
    "-but like most other language, the first row is 0, and the first column is also 0\n",
    "    with R indices start with 1,  in python they start with 0\n",
    "    \n",
    "-think of the indices in python as the distance from the start of an array or matrix"
   ]
  },
  {
   "cell_type": "code",
   "execution_count": null,
   "id": "0ad415b4-97c8-41ac-abd6-cfc70d96b541",
   "metadata": {},
   "outputs": [],
   "source": [
    "x=np.matrix('1 2 3; 4 5 6; 7 8 9')\n",
    "x"
   ]
  },
  {
   "cell_type": "code",
   "execution_count": null,
   "id": "b7f00381-ea6a-4696-acc0-e0f12da806e2",
   "metadata": {},
   "outputs": [],
   "source": [
    "x[1,0]"
   ]
  },
  {
   "cell_type": "markdown",
   "id": "81aa1330-b196-42e8-baba-c11dda341e7b",
   "metadata": {},
   "source": [
    "Action/Question\n",
    "\n",
    "What is the index of the \"8\" in this matrix? \n",
    "\n",
    "Test your answer"
   ]
  },
  {
   "cell_type": "code",
   "execution_count": null,
   "id": "c75252b5-eb38-4864-a9a7-0e8a47d1f536",
   "metadata": {},
   "outputs": [],
   "source": [
    "type(x)"
   ]
  },
  {
   "cell_type": "code",
   "execution_count": null,
   "id": "21d43cd8-ea81-4c2d-800d-41757bfb62ca",
   "metadata": {},
   "outputs": [],
   "source": [
    "# dtype is an attribute of a numpy array that indicates the type of elements in the matrix\n",
    "\n",
    "x.dtype"
   ]
  },
  {
   "cell_type": "code",
   "execution_count": null,
   "id": "d54bb84d-be85-447d-b934-2435c25615fb",
   "metadata": {},
   "outputs": [],
   "source": [
    "x.size"
   ]
  },
  {
   "cell_type": "code",
   "execution_count": null,
   "id": "682036ce-309c-4a14-bc64-579a8da1447f",
   "metadata": {},
   "outputs": [],
   "source": [
    "x.shape"
   ]
  },
  {
   "cell_type": "code",
   "execution_count": null,
   "id": "5a48aec8-c42a-491a-a499-ad5a1c61c613",
   "metadata": {},
   "outputs": [],
   "source": [
    "dir(x)"
   ]
  },
  {
   "cell_type": "markdown",
   "id": "2c0ce392-b26e-4114-9033-54d2a9f78b39",
   "metadata": {},
   "source": [
    "Action\n",
    "\n",
    "Add a cell and try some different operations from the member functions,  see what they do"
   ]
  },
  {
   "cell_type": "markdown",
   "id": "69df70ad-9876-453c-9a63-bff8318b2efc",
   "metadata": {},
   "source": [
    "Specialized Matrices"
   ]
  },
  {
   "cell_type": "code",
   "execution_count": null,
   "id": "8608014d-aabd-452a-b9be-1e2fcbe8cfb6",
   "metadata": {},
   "outputs": [],
   "source": [
    "x=np.identity(6)\n",
    "x"
   ]
  },
  {
   "cell_type": "code",
   "execution_count": null,
   "id": "e268a7c4-9cd6-45e4-92c6-24ab7ffe08de",
   "metadata": {},
   "outputs": [],
   "source": [
    "x=np.ones((4,5))\n",
    "x"
   ]
  },
  {
   "cell_type": "code",
   "execution_count": null,
   "id": "2ca40bd7-621c-47a2-9a37-1e962b25ce8a",
   "metadata": {},
   "outputs": [],
   "source": [
    "x=np.zeros((3,6))\n",
    "x"
   ]
  },
  {
   "cell_type": "markdown",
   "id": "ce78bfff-6ea3-44ab-93c4-dc4461b48713",
   "metadata": {},
   "source": [
    "To learn more about using Numpy to do linear algebra see:\n",
    "\n",
    "https://numpy.org/doc/stable/user/absolute_beginners.html\n",
    "\n",
    "Another option is\n",
    "\n",
    "https://www.kaggle.com/code/legendadnan/numpy-tutorial-for-beginners-data-science"
   ]
  },
  {
   "cell_type": "markdown",
   "id": "d0cdaed8-e0ea-41a3-bc9a-0d3c79146c48",
   "metadata": {},
   "source": [
    "#Pandas\n",
    "\n",
    "Pandas is a libary that implies a data frame,  much like the dataframes in R, or a data table in SQL\n",
    "\n",
    "Each row is an observation,   each column is a variable.\n",
    "\n",
    "The columns are actually 1 dimensional numpy arrays (ie n x 1 matrics, for n rows)\n",
    "\n",
    "There are an immense number of member functions to let us carry out operations on Pandas dataframes\n",
    "\n",
    "Slicing, sorting and selecting work much like they do in R\n",
    "\n",
    "We typically import pandas as pd"
   ]
  },
  {
   "cell_type": "markdown",
   "id": "72030306-f97d-4cd6-8b43-6259afbcf604",
   "metadata": {},
   "source": [
    "# Answer: This is my answer. yada yda yda\n"
   ]
  },
  {
   "cell_type": "code",
   "execution_count": null,
   "id": "f5010e17-d3c3-44c9-a872-f2c4eb94644c",
   "metadata": {},
   "outputs": [],
   "source": [
    "!pip install pandas\n",
    "import pandas as pd"
   ]
  },
  {
   "cell_type": "code",
   "execution_count": null,
   "id": "69c74b4c-5f89-4f62-8bf0-87e0e6a115b5",
   "metadata": {},
   "outputs": [],
   "source": [
    "#edit this line so it contains the full path name for the Boston Asssessment_Roll_2024.cvs\n",
    "\n",
    "\n",
    "infile=\"Boston_Assessment_Roll_2024.csv\""
   ]
  },
  {
   "cell_type": "code",
   "execution_count": null,
   "id": "1f73a219-6419-4855-bc94-dc4729735996",
   "metadata": {},
   "outputs": [],
   "source": [
    "#import the file,  place it into a Pandas dataframe\n",
    "\n",
    "Boston_roll=pd.read_csv(infile)"
   ]
  },
  {
   "cell_type": "code",
   "execution_count": null,
   "id": "d1be009f-c6a3-4e98-930a-95663085032a",
   "metadata": {},
   "outputs": [],
   "source": [
    "# We have a head function, just as in R\n",
    "\n",
    "Boston_roll.head(5)"
   ]
  },
  {
   "cell_type": "code",
   "execution_count": null,
   "id": "04c77077-1945-4f7e-b502-fbdeb9fee55c",
   "metadata": {},
   "outputs": [],
   "source": [
    "#We can access columns by name, rowns by number\n",
    "# Notice that 0:5 gives us all values from 0 to 4,  5 is not included\n",
    "\n",
    "Boston_roll[\"CITY\"][0:5]\n"
   ]
  },
  {
   "cell_type": "code",
   "execution_count": null,
   "id": "f5bd9fce-f608-451f-b718-60789e051773",
   "metadata": {},
   "outputs": [],
   "source": [
    "# we can index using two numbers, note the need to use the .iloc notation to do this\n",
    "\n",
    "Boston_roll.iloc[5:10,7]"
   ]
  },
  {
   "cell_type": "code",
   "execution_count": null,
   "id": "a922eb5b-39b7-4661-a410-46003952a836",
   "metadata": {},
   "outputs": [],
   "source": [
    "#let's look at the member functions\n",
    "\n",
    "dir(Boston_roll)"
   ]
  },
  {
   "cell_type": "markdown",
   "id": "db44cdad-e1c0-4dce-9164-eca152526625",
   "metadata": {},
   "source": [
    "Just a few options, eh?\n",
    "\n",
    "Pandas can do a lot of different things....\n",
    "\n",
    "We will see a lot more of Pandas later\n",
    "\n",
    "If you want to work ahead a bit\n",
    "\n",
    "https://www.kaggle.com/learn/pandas\n",
    "\n",
    "https://pandas.pydata.org/docs/getting_started/tutorials.html\n"
   ]
  }
 ],
 "metadata": {
  "kernelspec": {
   "display_name": "Python 3 (ipykernel)",
   "language": "python",
   "name": "python3"
  },
  "language_info": {
   "codemirror_mode": {
    "name": "ipython",
    "version": 3
   },
   "file_extension": ".py",
   "mimetype": "text/x-python",
   "name": "python",
   "nbconvert_exporter": "python",
   "pygments_lexer": "ipython3",
   "version": "3.12.9"
  }
 },
 "nbformat": 4,
 "nbformat_minor": 5
}
